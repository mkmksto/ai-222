{
 "cells": [
  {
   "cell_type": "code",
   "execution_count": null,
   "id": "705c66d9",
   "metadata": {},
   "outputs": [],
   "source": [
    "import torch"
   ]
  },
  {
   "cell_type": "code",
   "execution_count": 13,
   "id": "0eaa86a4",
   "metadata": {},
   "outputs": [],
   "source": [
    "# utils is at ../utils\n",
    "import sys\n",
    "import os\n",
    "\n",
    "# Add the parent directory (src) to the path so we can import from utils\n",
    "sys.path.append(os.path.join(os.getcwd(), \"..\"))\n",
    "from utils.general_utils import hello_world"
   ]
  },
  {
   "cell_type": "code",
   "execution_count": 14,
   "id": "4104ad27",
   "metadata": {},
   "outputs": [
    {
     "name": "stdout",
     "output_type": "stream",
     "text": [
      "Hello World\n"
     ]
    }
   ],
   "source": [
    "hello_world()"
   ]
  },
  {
   "cell_type": "code",
   "execution_count": 2,
   "id": "4b86d735",
   "metadata": {},
   "outputs": [
    {
     "name": "stdout",
     "output_type": "stream",
     "text": [
      "Available devices: ['cpu', 'mps']\n"
     ]
    }
   ],
   "source": [
    "available_devices = [\"cuda\" if torch.cuda.is_available() else \"cpu\"]\n",
    "if torch.backends.mps.is_available():\n",
    "    available_devices.append(\"mps\")\n",
    "print(\"Available devices:\", available_devices)\n"
   ]
  }
 ],
 "metadata": {
  "kernelspec": {
   "display_name": ".venv",
   "language": "python",
   "name": "python3"
  },
  "language_info": {
   "codemirror_mode": {
    "name": "ipython",
    "version": 3
   },
   "file_extension": ".py",
   "mimetype": "text/x-python",
   "name": "python",
   "nbconvert_exporter": "python",
   "pygments_lexer": "ipython3",
   "version": "3.13.5"
  }
 },
 "nbformat": 4,
 "nbformat_minor": 5
}
