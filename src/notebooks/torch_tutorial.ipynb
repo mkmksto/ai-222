{
 "cells": [
  {
   "cell_type": "code",
   "execution_count": null,
   "id": "705c66d9",
   "metadata": {},
   "outputs": [],
   "source": [
    "import torch"
   ]
  },
  {
   "cell_type": "code",
   "execution_count": 13,
   "id": "0eaa86a4",
   "metadata": {},
   "outputs": [],
   "source": [
    "# utils is at ../utils\n",
    "import sys\n",
    "import os\n",
    "\n",
    "# Add the parent directory (src) to the path so we can import from utils\n",
    "sys.path.append(os.path.join(os.getcwd(), \"..\"))\n",
    "from utils.general_utils import hello_world"
   ]
  },
  {
   "cell_type": "code",
   "execution_count": 14,
   "id": "4104ad27",
   "metadata": {},
   "outputs": [
    {
     "name": "stdout",
     "output_type": "stream",
     "text": [
      "Hello World\n"
     ]
    }
   ],
   "source": [
    "hello_world()"
   ]
  },
  {
   "cell_type": "code",
   "execution_count": 18,
   "id": "4b86d735",
   "metadata": {},
   "outputs": [
    {
     "name": "stdout",
     "output_type": "stream",
     "text": [
      "Available devices: ['cpu', 'mps']\n"
     ]
    }
   ],
   "source": [
    "available_devices = [\"cuda\" if torch.cuda.is_available() else \"cpu\"]\n",
    "if torch.backends.mps.is_available():\n",
    "    available_devices.append(\"mps\")\n",
    "print(\"Available devices:\", available_devices)\n",
    "device = \"mps\" if \"mps\" in available_devices else \"cpu\""
   ]
  },
  {
   "cell_type": "code",
   "execution_count": 20,
   "id": "afd5463a",
   "metadata": {},
   "outputs": [
    {
     "name": "stdout",
     "output_type": "stream",
     "text": [
      "tensor([[-0.6941,  1.1918,  0.9277, -0.0210,  0.2578,  0.5263, -0.2912,  1.5503,\n",
      "         -0.7984, -0.8987],\n",
      "        [ 1.0499, -1.1402, -1.1440,  1.6877,  0.6366,  0.0516,  0.9089, -1.8467,\n",
      "          0.9259, -1.0994],\n",
      "        [ 0.0146, -1.1150,  1.3263,  1.0353,  0.0080, -0.3561, -0.1245, -0.9480,\n",
      "          1.4770, -0.1366],\n",
      "        [-0.5860, -0.5455, -0.3316, -0.2319, -0.8973,  1.4060,  0.2165,  0.3455,\n",
      "          1.3794,  1.7068],\n",
      "        [-0.9386, -0.8030, -0.7087, -0.6399,  0.3406,  1.2243,  0.2062,  0.7135,\n",
      "         -0.9416, -0.0634],\n",
      "        [-0.6650, -0.0795, -0.7326,  0.1516, -0.3902,  0.7211,  2.1132, -0.0557,\n",
      "          0.1683,  0.9035],\n",
      "        [-0.9810, -0.1327, -1.7189, -1.4617, -1.9110, -0.1053,  0.8928, -0.1678,\n",
      "         -0.5492,  0.1275],\n",
      "        [ 0.4192,  0.9789,  0.2313,  1.2720,  0.6716,  0.0931,  0.9437, -0.0483,\n",
      "         -0.2326,  0.8892],\n",
      "        [-0.6999, -0.4365, -1.0065,  0.2700, -0.9873,  0.5539, -0.9312,  0.0831,\n",
      "         -0.3652, -1.7026],\n",
      "        [ 0.9078,  0.7147,  3.1615,  1.6522,  1.1125, -0.7904, -1.2973, -2.0740,\n",
      "         -0.0626, -0.6332]], device='mps:0')\n",
      "mps:0\n",
      "torch.float32\n",
      "torch.Size([10, 10])\n"
     ]
    }
   ],
   "source": [
    "x = torch.randn(10, 10).to(device)\n",
    "print(x)\n",
    "print(x.device)\n",
    "print(x.dtype)\n",
    "print(x.shape)"
   ]
  },
  {
   "cell_type": "markdown",
   "id": "59d742e5",
   "metadata": {},
   "source": [
    "requires grad\n"
   ]
  },
  {
   "cell_type": "code",
   "execution_count": null,
   "id": "cc1122f9",
   "metadata": {},
   "outputs": [
    {
     "name": "stdout",
     "output_type": "stream",
     "text": [
      "tensor([7.])\n"
     ]
    }
   ],
   "source": [
    "x_1 = torch.tensor([2.0], requires_grad=True)\n",
    "y = x_1**2 + 3 * x_1 + 1\n",
    "y.backward()  # equivalent to dy/dx = 2x + 3 # has backward method since this is created from x_1, which is a torch tensor\n",
    "print(x_1.grad)\n",
    "\n",
    "# x_2 = torch.tensor([2.0, 3.0, 4.0], requires_grad=True)\n",
    "# y = x_2**2 + 3 * x_2 + 1\n",
    "# y.backward()\n",
    "# print(x_2.grad)"
   ]
  },
  {
   "cell_type": "markdown",
   "id": "6cff355f",
   "metadata": {},
   "source": [
    "Note:\n",
    "<tensor object>.grad_fn is the function that created the tensor object. (e.g. an add or a mul op, or if created from scratch, it's a None)\n"
   ]
  }
 ],
 "metadata": {
  "kernelspec": {
   "display_name": ".venv",
   "language": "python",
   "name": "python3"
  },
  "language_info": {
   "codemirror_mode": {
    "name": "ipython",
    "version": 3
   },
   "file_extension": ".py",
   "mimetype": "text/x-python",
   "name": "python",
   "nbconvert_exporter": "python",
   "pygments_lexer": "ipython3",
   "version": "3.13.5"
  }
 },
 "nbformat": 4,
 "nbformat_minor": 5
}
