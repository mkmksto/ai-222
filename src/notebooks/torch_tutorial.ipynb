{
 "cells": [
  {
   "cell_type": "code",
   "execution_count": null,
   "id": "705c66d9",
   "metadata": {},
   "outputs": [],
   "source": [
    "import torch"
   ]
  },
  {
   "cell_type": "code",
   "execution_count": 13,
   "id": "0eaa86a4",
   "metadata": {},
   "outputs": [],
   "source": [
    "# utils is at ../utils\n",
    "import sys\n",
    "import os\n",
    "\n",
    "# Add the parent directory (src) to the path so we can import from utils\n",
    "sys.path.append(os.path.join(os.getcwd(), \"..\"))\n",
    "from utils.general_utils import hello_world"
   ]
  },
  {
   "cell_type": "code",
   "execution_count": 14,
   "id": "4104ad27",
   "metadata": {},
   "outputs": [
    {
     "name": "stdout",
     "output_type": "stream",
     "text": [
      "Hello World\n"
     ]
    }
   ],
   "source": [
    "hello_world()"
   ]
  },
  {
   "cell_type": "code",
   "execution_count": 18,
   "id": "4b86d735",
   "metadata": {},
   "outputs": [
    {
     "name": "stdout",
     "output_type": "stream",
     "text": [
      "Available devices: ['cpu', 'mps']\n"
     ]
    }
   ],
   "source": [
    "available_devices = [\"cuda\" if torch.cuda.is_available() else \"cpu\"]\n",
    "if torch.backends.mps.is_available():\n",
    "    available_devices.append(\"mps\")\n",
    "print(\"Available devices:\", available_devices)\n",
    "device = \"mps\" if \"mps\" in available_devices else \"cpu\""
   ]
  },
  {
   "cell_type": "code",
   "execution_count": 139,
   "id": "afd5463a",
   "metadata": {},
   "outputs": [
    {
     "name": "stdout",
     "output_type": "stream",
     "text": [
      "tensor([[ 1.3123,  0.6872, -1.0892, -0.3553, -0.9138, -0.6581,  0.0780,  0.5258,\n",
      "          1.1790, -0.4345],\n",
      "        [-1.3864, -1.2862, -1.4032,  0.0360, -0.0635,  0.6756,  0.3672,  0.1754,\n",
      "          1.3852, -0.4459],\n",
      "        [ 1.4451,  0.8564,  2.2181,  0.5232,  1.1754,  0.5612, -0.4527, -0.7718,\n",
      "         -0.1722,  0.5238],\n",
      "        [ 0.0566,  0.4263,  0.1971, -1.1441,  0.3383,  1.6992,  0.0109, -0.3387,\n",
      "         -1.3407, -0.5854],\n",
      "        [-0.5644,  1.0563, -1.4692,  1.4332,  0.7440, -0.4816, -1.0495,  0.6039,\n",
      "          0.4048, -1.3543],\n",
      "        [-0.4976,  0.4747, -2.5095,  0.4880,  0.7846,  0.0286,  1.7423, -1.3527,\n",
      "          0.2191,  0.5526],\n",
      "        [-0.1853,  0.7528,  0.4048,  0.1785, -0.3165,  0.5886, -0.8905,  0.4098,\n",
      "         -1.4570, -0.1023],\n",
      "        [-0.5992,  0.4771, -0.1693,  0.2332,  4.0356,  1.2795, -0.0127,  0.2408,\n",
      "          0.1325,  0.7642],\n",
      "        [ 0.5177,  0.3878, -0.5797, -0.1691, -0.9727,  0.9585,  1.6192,  1.4506,\n",
      "          0.2695, -0.2104],\n",
      "        [-0.7328,  0.1043,  0.3488,  0.9676, -0.4657,  1.6048, -2.4801, -0.4175,\n",
      "         -1.1955,  0.8123]], device='mps:0')\n",
      "mps:0\n",
      "torch.float32\n",
      "torch.Size([10, 10])\n"
     ]
    }
   ],
   "source": [
    "x = torch.randn(10, 10).to(device)\n",
    "print(x)\n",
    "print(x.device)\n",
    "print(x.dtype)\n",
    "print(x.shape)"
   ]
  },
  {
   "cell_type": "markdown",
   "id": "59d742e5",
   "metadata": {},
   "source": [
    "# requires grad\n",
    "\n",
    "attaches to tensors\n"
   ]
  },
  {
   "cell_type": "code",
   "execution_count": 140,
   "id": "cc1122f9",
   "metadata": {},
   "outputs": [
    {
     "name": "stdout",
     "output_type": "stream",
     "text": [
      "tensor([7.])\n"
     ]
    }
   ],
   "source": [
    "x_1 = torch.tensor([2.0], requires_grad=True)\n",
    "y = x_1**2 + 3 * x_1 + 1\n",
    "y.backward()  # equivalent to dy/dx = 2x + 3 # has backward method since this is created from x_1, which is a torch tensor\n",
    "print(x_1.grad)\n",
    "\n",
    "# x_2 = torch.tensor([2.0, 3.0, 4.0], requires_grad=True)\n",
    "# y = x_2**2 + 3 * x_2 + 1\n",
    "# y.backward()\n",
    "# print(x_2.grad)"
   ]
  },
  {
   "cell_type": "markdown",
   "id": "6cff355f",
   "metadata": {},
   "source": [
    "# Note:\n",
    "\n",
    "`<tensor object>.grad_fn` (i.e. attached to tensors) is the function that created the tensor object. (e.g. an add or a mul op, or if created from scratch, it's a None)\n",
    "\n",
    "This is used by the autodifferentiation engine to figure out how to backpropagate the gradient. (autograd)\n"
   ]
  },
  {
   "cell_type": "markdown",
   "id": "709207a6",
   "metadata": {},
   "source": [
    "# Manual step-by-step linear regression\n",
    "\n",
    "@ 22:30\n"
   ]
  },
  {
   "cell_type": "code",
   "execution_count": 166,
   "id": "919f678b",
   "metadata": {},
   "outputs": [
    {
     "name": "stdout",
     "output_type": "stream",
     "text": [
      "torch.Size([10, 1])\n",
      "tensor([[ 0.3367],\n",
      "        [ 0.1288],\n",
      "        [ 0.2345],\n",
      "        [ 0.2303],\n",
      "        [-1.1229],\n",
      "        [-0.1863],\n",
      "        [ 2.2082],\n",
      "        [-0.6380],\n",
      "        [ 0.4617],\n",
      "        [ 0.2674]])\n",
      "y_true\n",
      "tensor([[ 1.6734],\n",
      "        [ 1.2576],\n",
      "        [ 1.4689],\n",
      "        [ 1.4607],\n",
      "        [-1.2457],\n",
      "        [ 0.6273],\n",
      "        [ 5.4164],\n",
      "        [-0.2760],\n",
      "        [ 1.9233],\n",
      "        [ 1.5347]])\n"
     ]
    }
   ],
   "source": [
    "N = 10\n",
    "D_in = 1\n",
    "D_out = 1\n",
    "\n",
    "torch.manual_seed(42)\n",
    "\n",
    "# create input data\n",
    "X = torch.randn(N, D_in)  # this is just sample data\n",
    "print(X.shape)  # 10 x 1\n",
    "print(X)\n",
    "true_W = torch.tensor([[2.0]])  # 1 x 1\n",
    "true_b = torch.tensor(1.0)  # 1 x 1\n",
    "# sample = X @ true_W # because of broadcasting, we get element-wise multiplication\n",
    "\n",
    "y_true = X @ true_W + true_b  # y = 2x + 1\n",
    "y_true_with_noise = X @ true_W + true_b + torch.randn(N, D_out) * 0.1\n",
    "print(\"y_true\")\n",
    "print(y_true)\n"
   ]
  },
  {
   "cell_type": "code",
   "execution_count": 167,
   "id": "171d5b80",
   "metadata": {},
   "outputs": [
    {
     "data": {
      "image/png": "[encoded data removed]",
      "text/plain": [
       "<Figure size 600x400 with 1 Axes>"
      ]
     },
     "metadata": {},
     "output_type": "display_data"
    }
   ],
   "source": [
    "import matplotlib.pyplot as plt\n",
    "\n",
    "x_np = X.detach().cpu().numpy().squeeze()\n",
    "y_np = y_true.detach().cpu().numpy().squeeze()\n",
    "\n",
    "# formula: y = 2x + 1\n",
    "plt.figure(figsize=(6, 4))\n",
    "plt.scatter(x_np, y_np, c=\"tab:blue\", edgecolor=\"k\")\n",
    "plt.plot(x_np, 2 * x_np + 1, c=\"tab:red\", label=\"true_fn\")\n",
    "plt.title(\"X vs y_true for y = 2x+1\")\n",
    "plt.xlabel(\"X\")\n",
    "plt.ylabel(\"y_true\")\n",
    "plt.grid(True)\n",
    "plt.tight_layout()\n",
    "plt.show()\n"
   ]
  },
  {
   "cell_type": "code",
   "execution_count": 168,
   "id": "43724d1c",
   "metadata": {},
   "outputs": [
    {
     "data": {
      "image/png": "[encoded data removed]",
      "text/plain": [
       "<Figure size 600x400 with 1 Axes>"
      ]
     },
     "metadata": {},
     "output_type": "display_data"
    }
   ],
   "source": [
    "import matplotlib.pyplot as plt\n",
    "\n",
    "x_np_with_noise = X.detach().cpu().numpy().squeeze()\n",
    "y_np_with_noise = y_true_with_noise.detach().cpu().numpy().squeeze()\n",
    "\n",
    "# formula: y = 2x + 1\n",
    "plt.figure(figsize=(6, 4))\n",
    "plt.scatter(x_np_with_noise, y_np_with_noise, c=\"tab:blue\", edgecolor=\"k\")\n",
    "plt.plot(x_np_with_noise, 2 * x_np_with_noise + 1, c=\"tab:red\", label=\"true_fn\")\n",
    "plt.title(\"X vs y_true for y = 2x+1 (with noise)\")\n",
    "plt.xlabel(\"X\")\n",
    "plt.ylabel(\"y_true\")\n",
    "plt.grid(True)\n",
    "plt.tight_layout()\n",
    "plt.show()\n"
   ]
  },
  {
   "cell_type": "markdown",
   "id": "00a1f611",
   "metadata": {},
   "source": [
    "# Actual manual linear regression\n"
   ]
  },
  {
   "cell_type": "code",
   "execution_count": 169,
   "id": "4c8c18a0",
   "metadata": {},
   "outputs": [
    {
     "name": "stdout",
     "output_type": "stream",
     "text": [
      "W: tensor([[1.3525]], requires_grad=True), b: tensor([0.6863], requires_grad=True)\n",
      "true_W: tensor([[2.]]), true_b: 1.0\n",
      "---------------\n",
      "y_true: tensor([[ 1.6734],\n",
      "        [ 1.2576],\n",
      "        [ 1.4689],\n",
      "        [ 1.4607],\n",
      "        [-1.2457],\n",
      "        [ 0.6273],\n",
      "        [ 5.4164],\n",
      "        [-0.2760],\n",
      "        [ 1.9233],\n",
      "        [ 1.5347]])\n",
      "y_pred: tensor([[ 1.1417],\n",
      "        [ 0.8605],\n",
      "        [ 1.0034],\n",
      "        [ 0.9979],\n",
      "        [-0.8324],\n",
      "        [ 0.4343],\n",
      "        [ 3.6730],\n",
      "        [-0.1766],\n",
      "        [ 1.3107],\n",
      "        [ 1.0479]], grad_fn=<AddBackward0>)\n",
      "------- step 1 loss\n",
      "tensor(0.4741, grad_fn=<MeanBackward0>)\n"
     ]
    }
   ],
   "source": [
    "# first, we create a random guess for W and b\n",
    "\n",
    "W, b = torch.randn(D_in, D_out, requires_grad=True), torch.randn(1, requires_grad=True)\n",
    "print(f\"W: {W}, b: {b}\")\n",
    "print(f\"true_W: {true_W}, true_b: {true_b}\")\n",
    "\n",
    "# then, we compute the predicted y\n",
    "y_pred = X @ W + b\n",
    "print(\"---------------\")\n",
    "print(f\"y_true: {y_true}\")\n",
    "print(f\"y_pred: {y_pred}\")\n",
    "\n",
    "loss = torch.mean((y_true - y_pred) ** 2)\n",
    "print(\"------- step 1 loss\")\n",
    "print(loss)\n"
   ]
  },
  {
   "cell_type": "code",
   "execution_count": 170,
   "id": "2a67944d",
   "metadata": {},
   "outputs": [],
   "source": [
    "lr = 0.1"
   ]
  },
  {
   "cell_type": "code",
   "execution_count": 171,
   "id": "dfe9f9b5",
   "metadata": {},
   "outputs": [
    {
     "name": "stdout",
     "output_type": "stream",
     "text": [
      "None\n"
     ]
    }
   ],
   "source": [
    "print(W.grad)"
   ]
  },
  {
   "cell_type": "markdown",
   "id": "bf48f565",
   "metadata": {},
   "source": [
    "## Notes to self\n",
    "\n",
    "We can think of G.D. as something like tuning a radio, y^hat = signal with static noise, y = true signal, W and b = knobs we can tune to get y^hat closer to y\n"
   ]
  },
  {
   "cell_type": "code",
   "execution_count": null,
   "id": "4d20f82f",
   "metadata": {},
   "outputs": [
    {
     "name": "stdout",
     "output_type": "stream",
     "text": [
      "tensor([[-1.0400]])\n",
      "tensor([-0.8760])\n",
      "loss: 0.47407668828964233\n",
      "W: tensor([[1.4566]], requires_grad=True)\n",
      "b: tensor([0.7739], requires_grad=True)\n",
      "y_pred: tensor([[1.1417],\n",
      "        [0.8605],\n",
      "        [1.0034]], grad_fn=<SliceBackward0>)\n",
      "y_true: tensor([[1.6734],\n",
      "        [1.2576],\n",
      "        [1.4689]])\n"
     ]
    },
    {
     "data": {
      "text/plain": [
       "tensor([0.])"
      ]
     },
     "execution_count": 172,
     "metadata": {},
     "output_type": "execute_result"
    }
   ],
   "source": [
    "loss.backward()\n",
    "print(\"W.grad\")\n",
    "print(W.grad)\n",
    "print(\"b.grad\")\n",
    "print(b.grad)\n",
    "with torch.no_grad():\n",
    "    W -= lr * W.grad\n",
    "    b -= lr * b.grad\n",
    "# print loss and first 3 rows of the weights, and first 3 rows of the preds\n",
    "print(f\"loss: {loss}\")\n",
    "print(f\"W: {W}\")\n",
    "print(f\"b: {b}\")\n",
    "print(f\"y_pred: {y_pred[:3]}\")\n",
    "print(f\"y_true: {y_true[:3]}\")\n",
    "\n",
    "\n",
    "# zero out the gradients\n",
    "W.grad.zero_()\n",
    "b.grad.zero_()\n"
   ]
  },
  {
   "cell_type": "code",
   "execution_count": 173,
   "id": "0a8c36a5",
   "metadata": {},
   "outputs": [
    {
     "name": "stdout",
     "output_type": "stream",
     "text": [
      "W.grad: tensor([[-0.8587]])\n",
      "b.grad: tensor([-0.6609])\n",
      "loss: 0.30802521109580994\n",
      "W: tensor([[1.5424]], requires_grad=True)\n",
      "b: tensor([0.8400], requires_grad=True)\n",
      "y_pred: tensor([[1.2643],\n",
      "        [0.9615],\n",
      "        [1.1154]], grad_fn=<SliceBackward0>)\n",
      "y_true: tensor([[1.6734],\n",
      "        [1.2576],\n",
      "        [1.4689]])\n"
     ]
    },
    {
     "data": {
      "text/plain": [
       "tensor([0.])"
      ]
     },
     "execution_count": 173,
     "metadata": {},
     "output_type": "execute_result"
    }
   ],
   "source": [
    "y_pred = X @ W + b\n",
    "loss = torch.mean((y_true - y_pred) ** 2)\n",
    "\n",
    "\n",
    "loss.backward()\n",
    "print(f\"W.grad: {W.grad}\")\n",
    "print(f\"b.grad: {b.grad}\")\n",
    "with torch.no_grad():\n",
    "    W -= lr * W.grad\n",
    "    b -= lr * b.grad\n",
    "# print loss and first 3 rows of the weights, and first 3 rows of the preds\n",
    "print(f\"loss: {loss}\")\n",
    "print(f\"W: {W}\")\n",
    "print(f\"b: {b}\")\n",
    "print(f\"y_pred: {y_pred[:3]}\")\n",
    "print(f\"y_true: {y_true[:3]}\")\n",
    "\n",
    "\n",
    "# zero out the gradients\n",
    "W.grad.zero_()\n",
    "b.grad.zero_()\n"
   ]
  },
  {
   "cell_type": "code",
   "execution_count": 174,
   "id": "b17f1b5a",
   "metadata": {},
   "outputs": [
    {
     "name": "stdout",
     "output_type": "stream",
     "text": [
      "W.grad: tensor([[-0.7113]])\n",
      "b.grad: tensor([-0.4957])\n",
      "loss: 0.2024017870426178\n",
      "W: tensor([[1.6136]], requires_grad=True)\n",
      "b: tensor([0.8896], requires_grad=True)\n",
      "y_pred: tensor([[1.3593],\n",
      "        [1.0387],\n",
      "        [1.2016]], grad_fn=<SliceBackward0>)\n",
      "y_true: tensor([[1.6734],\n",
      "        [1.2576],\n",
      "        [1.4689]])\n"
     ]
    },
    {
     "data": {
      "text/plain": [
       "tensor([0.])"
      ]
     },
     "execution_count": 174,
     "metadata": {},
     "output_type": "execute_result"
    }
   ],
   "source": [
    "y_pred = X @ W + b\n",
    "loss = torch.mean((y_true - y_pred) ** 2)\n",
    "\n",
    "\n",
    "loss.backward()\n",
    "print(f\"W.grad: {W.grad}\")\n",
    "print(f\"b.grad: {b.grad}\")\n",
    "with torch.no_grad():\n",
    "    W -= lr * W.grad\n",
    "    b -= lr * b.grad\n",
    "# print loss and first 3 rows of the weights, and first 3 rows of the preds\n",
    "print(f\"loss: {loss}\")\n",
    "print(f\"W: {W}\")\n",
    "print(f\"b: {b}\")\n",
    "print(f\"y_pred: {y_pred[:3]}\")\n",
    "print(f\"y_true: {y_true[:3]}\")\n",
    "\n",
    "\n",
    "# zero out the gradients\n",
    "W.grad.zero_()\n",
    "b.grad.zero_()\n"
   ]
  },
  {
   "cell_type": "markdown",
   "id": "5a20a4be",
   "metadata": {},
   "source": [
    "## NOTE: i pressed rerun on the cell below about 10 times\n"
   ]
  },
  {
   "cell_type": "code",
   "execution_count": 193,
   "id": "ab49f6ad",
   "metadata": {},
   "outputs": [
    {
     "name": "stdout",
     "output_type": "stream",
     "text": [
      "W.grad: tensor([[-0.0339]])\n",
      "b.grad: tensor([0.0091])\n",
      "loss: 0.0004928114940412343\n",
      "W: tensor([[1.9769]], requires_grad=True)\n",
      "true_W: tensor([[2.]])\n",
      "b: tensor([1.0087], requires_grad=True)\n",
      "y_pred: tensor([[1.6741],\n",
      "        [1.2639],\n",
      "        [1.4724]], grad_fn=<SliceBackward0>)\n",
      "y_true: tensor([[1.6734],\n",
      "        [1.2576],\n",
      "        [1.4689]])\n"
     ]
    },
    {
     "data": {
      "text/plain": [
       "tensor([0.])"
      ]
     },
     "execution_count": 193,
     "metadata": {},
     "output_type": "execute_result"
    }
   ],
   "source": [
    "y_pred = X @ W + b\n",
    "loss = torch.mean((y_true - y_pred) ** 2)\n",
    "\n",
    "\n",
    "loss.backward()\n",
    "print(f\"W.grad: {W.grad}\")\n",
    "print(f\"b.grad: {b.grad}\")\n",
    "with torch.no_grad():\n",
    "    W -= lr * W.grad\n",
    "    b -= lr * b.grad\n",
    "# print loss and first 3 rows of the weights, and first 3 rows of the preds\n",
    "print(f\"loss: {loss}\")\n",
    "print(f\"W: {W}\")\n",
    "print(f\"true_W: {true_W}\")\n",
    "print(f\"b: {b}\")\n",
    "print(f\"y_pred: {y_pred[:3]}\")\n",
    "print(f\"y_true: {y_true[:3]}\")\n",
    "\n",
    "\n",
    "# zero out the gradients\n",
    "W.grad.zero_()\n",
    "b.grad.zero_()\n"
   ]
  },
  {
   "cell_type": "markdown",
   "id": "a6140e2e",
   "metadata": {},
   "source": [
    "# Plot of the trained model\n"
   ]
  },
  {
   "cell_type": "code",
   "execution_count": 194,
   "id": "62a19964",
   "metadata": {},
   "outputs": [
    {
     "data": {
      "image/png": "[encoded data removed]",
      "text/plain": [
       "<Figure size 600x400 with 1 Axes>"
      ]
     },
     "metadata": {},
     "output_type": "display_data"
    }
   ],
   "source": [
    "import matplotlib.pyplot as plt\n",
    "\n",
    "with torch.no_grad():\n",
    "    y_hat = X @ W + b\n",
    "\n",
    "x_np = X.detach().cpu().numpy().squeeze()\n",
    "y_hat_np = y_hat.detach().cpu().numpy().squeeze()\n",
    "\n",
    "plt.figure(figsize=(6, 4))\n",
    "plt.scatter(x_np, y_hat_np, c=\"tab:green\", edgecolor=\"k\", label=\"y_hat\")\n",
    "plt.plot(x_np, 2 * x_np + 1, c=\"tab:red\", label=\"true_fn\")\n",
    "plt.title(\"X vs y_hat (trained model)\")\n",
    "plt.xlabel(\"X\")\n",
    "plt.ylabel(\"y_hat\")\n",
    "plt.grid(True)\n",
    "plt.tight_layout()\n",
    "plt.show()\n"
   ]
  }
 ],
 "metadata": {
  "kernelspec": {
   "display_name": ".venv",
   "language": "python",
   "name": "python3"
  },
  "language_info": {
   "codemirror_mode": {
    "name": "ipython",
    "version": 3
   },
   "file_extension": ".py",
   "mimetype": "text/x-python",
   "name": "python",
   "nbconvert_exporter": "python",
   "pygments_lexer": "ipython3",
   "version": "3.13.5"
  }
 },
 "nbformat": 4,
 "nbformat_minor": 5
}
