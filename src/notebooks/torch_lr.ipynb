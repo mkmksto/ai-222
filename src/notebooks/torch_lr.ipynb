{
 "cells": [
  {
   "cell_type": "code",
   "execution_count": 36,
   "id": "c38bfd46",
   "metadata": {},
   "outputs": [],
   "source": [
    "import torch"
   ]
  },
  {
   "cell_type": "code",
   "execution_count": 37,
   "id": "c6735268",
   "metadata": {},
   "outputs": [],
   "source": [
    "N = 10\n",
    "D_in = 1\n",
    "D_out = 1\n"
   ]
  },
  {
   "cell_type": "code",
   "execution_count": 38,
   "id": "82f8aa1b",
   "metadata": {},
   "outputs": [
    {
     "name": "stdout",
     "output_type": "stream",
     "text": [
      "X[:3]: tensor([[0.3367],\n",
      "        [0.1288],\n",
      "        [0.2345]])\n",
      "X.shape: torch.Size([10, 1])\n",
      "W_true: tensor([[2.]])\n",
      "b_true: 1.0\n",
      "---- y_true[:3]:\n",
      "tensor([[1.6734],\n",
      "        [1.2576],\n",
      "        [1.4689]])\n"
     ]
    }
   ],
   "source": [
    "torch.manual_seed(42)\n",
    "X = torch.randn(N, D_in)\n",
    "print(f\"X[:3]: {X[:3]}\")\n",
    "\n",
    "W_true = torch.tensor([[2.0]])\n",
    "b_true = torch.tensor(1.0)\n",
    "print(f\"X.shape: {X.shape}\")\n",
    "print(f\"W_true: {W_true}\")\n",
    "print(f\"b_true: {b_true}\")\n",
    "\n",
    "y_true = X @ W_true + b_true\n",
    "print(\"---- y_true[:3]:\")\n",
    "print(y_true[:3])"
   ]
  },
  {
   "cell_type": "code",
   "execution_count": 39,
   "id": "d7b222fb",
   "metadata": {},
   "outputs": [
    {
     "name": "stdout",
     "output_type": "stream",
     "text": [
      "W.shape: torch.Size([1, 1])\n",
      "W[:3]: tensor([[0.3367]], grad_fn=<SliceBackward0>)\n",
      "b: tensor([0.1288], requires_grad=True)\n"
     ]
    }
   ],
   "source": [
    "lr, epochs = 0.07, 40\n",
    "\n",
    "torch.manual_seed(42)\n",
    "W, b = (\n",
    "    torch.randn(D_in, D_out, requires_grad=True),\n",
    "    torch.randn(1, requires_grad=True),\n",
    ")\n",
    "print(f\"W.shape: {W.shape}\")\n",
    "print(f\"W[:3]: {W[:3]}\")\n",
    "print(f\"b: {b}\")"
   ]
  },
  {
   "cell_type": "code",
   "execution_count": 40,
   "id": "82ade613",
   "metadata": {},
   "outputs": [
    {
     "name": "stdout",
     "output_type": "stream",
     "text": [
      "Final Loss: 0.0007\n",
      "Final W: tensor([[1.9722]], requires_grad=True)\n",
      "Final b: tensor([1.0117], requires_grad=True)\n",
      "Final y_hats: tensor([[ 1.6757],\n",
      "        [ 1.2663],\n",
      "        [ 1.4744],\n",
      "        [ 1.4663],\n",
      "        [-1.1988],\n",
      "        [ 0.6457],\n",
      "        [ 5.3616],\n",
      "        [-0.2439],\n",
      "        [ 1.9219],\n",
      "        [ 1.5392]], grad_fn=<AddBackward0>)\n",
      "True y_hats: tensor([[ 1.6734],\n",
      "        [ 1.2576],\n",
      "        [ 1.4689],\n",
      "        [ 1.4607],\n",
      "        [-1.2457],\n",
      "        [ 0.6273],\n",
      "        [ 5.4164],\n",
      "        [-0.2760],\n",
      "        [ 1.9233],\n",
      "        [ 1.5347]])\n"
     ]
    }
   ],
   "source": [
    "for i in range(epochs):\n",
    "    y_hat = X @ W + b\n",
    "    loss = torch.mean((y_hat - y_true) ** 2)\n",
    "    loss.backward()\n",
    "    with torch.no_grad():\n",
    "        W -= lr * W.grad\n",
    "        b -= lr * b.grad\n",
    "\n",
    "    W.grad.zero_()\n",
    "    b.grad.zero_()\n",
    "    # print(f\"Epoch {i + 1}/{epochs}, Loss: {loss.item():.4f}\")\n",
    "\n",
    "print(f\"Final Loss: {loss.item():.4f}\")\n",
    "# final W and b\n",
    "# final y_hats\n",
    "# true y_hats\n",
    "print(f\"Final W: {W}\")\n",
    "print(f\"Final b: {b}\")\n",
    "print(f\"Final y_hats: {y_hat}\")\n",
    "print(f\"True y_hats: {y_true}\")\n"
   ]
  }
 ],
 "metadata": {
  "kernelspec": {
   "display_name": ".venv",
   "language": "python",
   "name": "python3"
  },
  "language_info": {
   "codemirror_mode": {
    "name": "ipython",
    "version": 3
   },
   "file_extension": ".py",
   "mimetype": "text/x-python",
   "name": "python",
   "nbconvert_exporter": "python",
   "pygments_lexer": "ipython3",
   "version": "3.13.5"
  }
 },
 "nbformat": 4,
 "nbformat_minor": 5
}
